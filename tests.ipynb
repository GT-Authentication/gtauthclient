{
 "cells": [
  {
   "cell_type": "code",
   "execution_count": 5,
   "metadata": {},
   "outputs": [
    {
     "name": "stdout",
     "output_type": "stream",
     "text": [
      "Encryption key: HexwwUHSnMb0dE4kvYn9HZHHP9s4sUktEwm774Vac86TjC0nzVIFjz8DA5astSEl\n"
     ]
    }
   ],
   "source": [
    "from gtauthclient import GTAuthClient\n",
    "\n",
    "encryption_key = GTAuthClient(key=\"\").new_secure_string()\n",
    "print(f\"Encryption key: {encryption_key}\")\n",
    "auth = GTAuthClient(key=encryption_key)"
   ]
  },
  {
   "cell_type": "code",
   "execution_count": 6,
   "metadata": {},
   "outputs": [
    {
     "name": "stdout",
     "output_type": "stream",
     "text": [
      "Encrypted string: U2FsdGVkX19QpGhuABCP13Mqo6vxEkd9u3Wxs9GXOrAeC8JT9D0h9xerM8m5IQeQ\n"
     ]
    }
   ],
   "source": [
    "encrypted_string = auth.encrypt(data=\"This is a test string!\")\n",
    "print(f\"Encrypted string: {encrypted_string}\")"
   ]
  },
  {
   "cell_type": "code",
   "execution_count": 7,
   "metadata": {},
   "outputs": [
    {
     "name": "stdout",
     "output_type": "stream",
     "text": [
      "Decrypted string: This is a test string!\n"
     ]
    }
   ],
   "source": [
    "decrypted_string = auth.decrypt(data=encrypted_string)\n",
    "print(f\"Decrypted string: {decrypted_string}\")"
   ]
  },
  {
   "cell_type": "code",
   "execution_count": 8,
   "metadata": {},
   "outputs": [
    {
     "name": "stdout",
     "output_type": "stream",
     "text": [
      "Decrypted JWT: {'sub': 'ADMIN', 'role': 'ADMIN'}\n"
     ]
    }
   ],
   "source": [
    "decrypted_jwt = auth.verify_user(authorization=encryption_key)\n",
    "print(f\"Decrypted JWT: {decrypted_jwt}\")"
   ]
  }
 ],
 "metadata": {
  "kernelspec": {
   "display_name": "Python 3",
   "language": "python",
   "name": "python3"
  },
  "language_info": {
   "codemirror_mode": {
    "name": "ipython",
    "version": 3
   },
   "file_extension": ".py",
   "mimetype": "text/x-python",
   "name": "python",
   "nbconvert_exporter": "python",
   "pygments_lexer": "ipython3",
   "version": "3.10.11"
  }
 },
 "nbformat": 4,
 "nbformat_minor": 2
}
