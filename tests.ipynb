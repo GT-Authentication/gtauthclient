{
 "cells": [
  {
   "cell_type": "code",
   "execution_count": 5,
   "metadata": {},
   "outputs": [
    {
     "name": "stdout",
     "output_type": "stream",
     "text": [
      "Encrypted string: U2FsdGVkX1+cnXsj+Ep2owdvdUkzY/3BMb36DzwxutquSpGj2GV5MWbGvVwft4ZP\n"
     ]
    }
   ],
   "source": [
    "from gtauthclient import GTAuthClient\n",
    "\n",
    "encryption_key = \"This is a test key!\"\n",
    "auth = GTAuthClient(key=encryption_key)\n",
    "encrypted_string = auth.encrypt(data=\"This is a test string!\")\n",
    "print(f\"Encrypted string: {encrypted_string}\")"
   ]
  },
  {
   "cell_type": "code",
   "execution_count": 6,
   "metadata": {},
   "outputs": [
    {
     "name": "stdout",
     "output_type": "stream",
     "text": [
      "Decrypted string: This is a test string!\n"
     ]
    }
   ],
   "source": [
    "decrypted_string = auth.decrypt(data=encrypted_string)\n",
    "print(f\"Decrypted string: {decrypted_string}\")"
   ]
  },
  {
   "cell_type": "code",
   "execution_count": 7,
   "metadata": {},
   "outputs": [
    {
     "name": "stdout",
     "output_type": "stream",
     "text": [
      "Decrypted JWT: {'sub': 'ADMIN', 'role': 'ADMIN'}\n"
     ]
    }
   ],
   "source": [
    "decrypted_jwt = auth.verify_user(authorization=encryption_key)\n",
    "print(f\"Decrypted JWT: {decrypted_jwt}\")"
   ]
  }
 ],
 "metadata": {
  "kernelspec": {
   "display_name": "Python 3",
   "language": "python",
   "name": "python3"
  },
  "language_info": {
   "codemirror_mode": {
    "name": "ipython",
    "version": 3
   },
   "file_extension": ".py",
   "mimetype": "text/x-python",
   "name": "python",
   "nbconvert_exporter": "python",
   "pygments_lexer": "ipython3",
   "version": "3.10.11"
  }
 },
 "nbformat": 4,
 "nbformat_minor": 2
}
